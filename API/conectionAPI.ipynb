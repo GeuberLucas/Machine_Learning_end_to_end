{
 "cells": [
  {
   "cell_type": "code",
   "execution_count": 1,
   "metadata": {},
   "outputs": [],
   "source": [
    "import requests,json"
   ]
  },
  {
   "cell_type": "code",
   "execution_count": 2,
   "metadata": {},
   "outputs": [
    {
     "data": {
      "text/plain": [
       "{'Retorno ': 'Bem vindo ao simulador de aluguel!!'}"
      ]
     },
     "execution_count": 2,
     "metadata": {},
     "output_type": "execute_result"
    }
   ],
   "source": [
    "url=\"http://127.0.0.1:5000\"\n",
    "\n",
    "welcome=requests.get(url+ '/Welcome')\n",
    "\n",
    "response= welcome.json()\n",
    "\n",
    "response"
   ]
  },
  {
   "cell_type": "code",
   "execution_count": 13,
   "metadata": {},
   "outputs": [
    {
     "data": {
      "text/plain": [
       "'{\\n  \"valor do Aluguel\": \"[1531.77371561]\"\\n}\\n'"
      ]
     },
     "execution_count": 13,
     "metadata": {},
     "output_type": "execute_result"
    }
   ],
   "source": [
    "\n",
    "\n",
    "\n",
    "obj={\n",
    "    \"city\":1,  \n",
    "    \"area\":25,\n",
    "    \"rooms\":1,\n",
    "    \"bathroom\":1,\n",
    "    \"parkingspaces\":\"0\",\n",
    "    \"floor\":\"0\",\n",
    "    \"animal\":\"0\",\n",
    "    \"furniture\":\"0\",\n",
    "    \"hoa(R$)\":\"0\",\n",
    "    \"propertytax(R$)\":84\n",
    "}\n",
    "previsao= requests.post(url + '/Rent-Forecast',data=json.dumps(obj),headers={\n",
    "    \"Content-type\": \"application/json\"\n",
    "})\n",
    "\n",
    "previsao.text"
   ]
  }
 ],
 "metadata": {
  "kernelspec": {
   "display_name": "Python 3",
   "language": "python",
   "name": "python3"
  },
  "language_info": {
   "codemirror_mode": {
    "name": "ipython",
    "version": 3
   },
   "file_extension": ".py",
   "mimetype": "text/x-python",
   "name": "python",
   "nbconvert_exporter": "python",
   "pygments_lexer": "ipython3",
   "version": "3.11.0"
  },
  "orig_nbformat": 4
 },
 "nbformat": 4,
 "nbformat_minor": 2
}
