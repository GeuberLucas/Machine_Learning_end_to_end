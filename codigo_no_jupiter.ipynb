{
 "cells": [
  {
   "cell_type": "code",
   "execution_count": null,
   "metadata": {},
   "outputs": [],
   "source": [
    "#libs de dados\n",
    "import pandas as pd\n",
    "import numpy as np\n",
    "\n",
    "#libs graficas\n",
    "import matplotlib.pyplot as plt\n",
    "import seaborn as sn\n",
    "\n",
    "#avisos\n",
    "import warnings\n",
    "warnings.filterwarnings('ignore')\n",
    "\n",
    "#config Pandas\n",
    "pd.set_option('display.max_rows',200)\n",
    "pd.set_option('display.max_columns',100)\n",
    "\n",
    "#config Matplot\n",
    "plt.rcParams['figure.figsize'] = (15,6)\n",
    "plt.style.use('seaborn-darkgrid')\n",
    "\n",
    "\n",
    "baseData= pd.read_csv('./house_data.csv')\n",
    "\n",
    "print('dimensão da base= '+ str(baseData.shape))"
   ]
  },
  {
   "cell_type": "code",
   "execution_count": null,
   "metadata": {},
   "outputs": [],
   "source": [
    "#vendo dados\n",
    "baseData.head()\n",
    "print(\"----\")"
   ]
  },
  {
   "cell_type": "code",
   "execution_count": null,
   "metadata": {},
   "outputs": [],
   "source": [
    "baseData.drop(columns=['fire insurance (R$)','total (R$)'],inplace=True)\n",
    "baseData.isnull().sum().sort_values(ascending=False)\n",
    "print(\"----\")"
   ]
  },
  {
   "cell_type": "code",
   "execution_count": null,
   "metadata": {},
   "outputs": [],
   "source": [
    "#campos Unicos\n",
    "baseData.nunique()\n",
    "print(\"----\")\n"
   ]
  },
  {
   "attachments": {},
   "cell_type": "markdown",
   "metadata": {},
   "source": [
    "\n",
    "EDA"
   ]
  },
  {
   "cell_type": "code",
   "execution_count": null,
   "metadata": {},
   "outputs": [],
   "source": [
    "#analise dos categoricos\n",
    "print(categoryColumns)\n",
    "print(\"----\")\n",
    "for column in categoryColumns:\n",
    "    print(column)\n",
    "    print(baseData[column].value_counts(normalize=True)*100)\n",
    "    print(\"----\")"
   ]
  }
 ],
 "metadata": {
  "kernelspec": {
   "display_name": "Python 3",
   "language": "python",
   "name": "python3"
  },
  "language_info": {
   "name": "python",
   "version": "3.11.0"
  },
  "orig_nbformat": 4
 },
 "nbformat": 4,
 "nbformat_minor": 2
}
